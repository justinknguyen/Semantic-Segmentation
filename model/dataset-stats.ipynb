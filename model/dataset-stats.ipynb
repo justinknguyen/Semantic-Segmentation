{
 "cells": [
  {
   "attachments": {},
   "cell_type": "markdown",
   "metadata": {},
   "source": [
    "# Dataset Statistics"
   ]
  },
  {
   "cell_type": "code",
   "execution_count": 37,
   "metadata": {},
   "outputs": [],
   "source": [
    "#Import required libraries\n",
    "import torch\n",
    "import torch.nn as nn\n",
    "import cv2\n",
    "from torch.utils.data import Dataset, DataLoader\n",
    "from torchvision import transforms\n",
    "from torch_snippets import stems, read\n",
    "from torch.optim.lr_scheduler import ExponentialLR\n",
    "import numpy as np"
   ]
  },
  {
   "cell_type": "code",
   "execution_count": 14,
   "metadata": {},
   "outputs": [],
   "source": [
    "def get_transforms():\n",
    "  # Dataset is large, don't apply random data augmentation\n",
    "  # Mean and std dev based on average of training data\n",
    "  return transforms.Compose([\n",
    "                             transforms.ToTensor(),\n",
    "                             ])"
   ]
  },
  {
   "cell_type": "code",
   "execution_count": 15,
   "metadata": {},
   "outputs": [
    {
     "name": "stdout",
     "output_type": "stream",
     "text": [
      "The device being used is: cpu\n"
     ]
    }
   ],
   "source": [
    "# Check if GPU is available\n",
    "device = torch.device('cuda:0' if torch.cuda.is_available() else 'cpu')\n",
    "# Assuming that we are on a CUDA machine, this should print a CUDA device:\n",
    "print(\"The device being used is:\", device)"
   ]
  },
  {
   "cell_type": "code",
   "execution_count": 16,
   "metadata": {},
   "outputs": [],
   "source": [
    "class SegmentationDataset(Dataset):\n",
    "    def __init__(self, split):\n",
    "        self.items = stems(f'dataset/image_{split}')\n",
    "        self.split = split\n",
    "\n",
    "\n",
    "    def __len__(self):\n",
    "        return len(self.items)\n",
    "\n",
    "\n",
    "    def __getitem__(self, ix):\n",
    "        image = read(f'dataset/image_{self.split}/{self.items[ix]}.png', 1)\n",
    "        image = cv2.resize(image, (572,572))\n",
    "\n",
    "        mask = read(f'dataset/mask_{self.split}/{self.items[ix]}.png')\n",
    "        mask = cv2.resize(mask, (572,572))\n",
    "\n",
    "        return image, mask\n",
    "    \n",
    "    def collate_fn(self, batch):\n",
    "        ims, masks = list(zip(*batch))\n",
    "\n",
    "        ims = torch.cat([get_transforms()(im.copy()/255.)[None] for im in ims]).float().to(device)\n",
    "\n",
    "\n",
    "        ce_masks = torch.cat([torch.Tensor(mask)[None] for mask in masks]).long().to(device)\n",
    "\n",
    "\n",
    "        return ims, ce_masks"
   ]
  },
  {
   "cell_type": "code",
   "execution_count": 17,
   "metadata": {},
   "outputs": [],
   "source": [
    "trn_ds = SegmentationDataset('train')\n",
    "val_ds = SegmentationDataset('val')\n",
    "test_ds = SegmentationDataset('test')\n",
    "\n",
    "trn_dl = DataLoader(trn_ds, batch_size=16, shuffle=False, collate_fn=trn_ds.collate_fn)\n",
    "val_dl = DataLoader(val_ds, batch_size=16, collate_fn=val_ds.collate_fn)\n",
    "test_dl = DataLoader(test_ds, batch_size=16, collate_fn=test_ds.collate_fn)"
   ]
  },
  {
   "attachments": {},
   "cell_type": "markdown",
   "metadata": {},
   "source": [
    "### Calculate the Label Distribution for Each Set"
   ]
  },
  {
   "cell_type": "code",
   "execution_count": 57,
   "metadata": {},
   "outputs": [
    {
     "name": "stdout",
     "output_type": "stream",
     "text": [
      "Pixel count in the training set: [8.28760000e+04 3.77709270e+07 1.24280910e+07 1.28947780e+07\n",
      " 1.10625570e+07 2.48205700e+06 9.83742800e+06 2.63813555e+08\n",
      " 4.18213870e+07 5.66634200e+06 2.40685400e+06 1.63464176e+08\n",
      " 4.54986800e+06 6.48666600e+06 5.09433000e+05 3.15337100e+06\n",
      " 8.67755000e+05 8.80669900e+06 6.05012000e+05 2.04127000e+06\n",
      " 4.47253700e+06 1.06123604e+08 8.20591200e+06 2.86622730e+07\n",
      " 8.91648500e+06 1.02424900e+06 5.10874750e+07 2.07781700e+06\n",
      " 1.76852300e+06 3.53082000e+05 1.87956000e+05 1.51118900e+06\n",
      " 6.34511000e+05 3.02213300e+06]\n",
      "Pixel count in the validation set: [2.0151000e+04 6.2846330e+06 2.3860000e+04 2.6127850e+06 1.7382940e+06\n",
      " 5.6550500e+05 2.4502190e+06 5.3220787e+07 1.0220493e+07 6.6270900e+05\n",
      " 1.2315100e+05 3.1171523e+07 1.6043050e+06 1.4425310e+06 1.0651600e+05\n",
      " 1.1897200e+05 1.8584100e+05 1.2838680e+06 1.0586600e+05 3.6734500e+05\n",
      " 7.2316600e+05 2.9840045e+07 1.9669170e+06 5.9002710e+06 1.3740520e+06\n",
      " 2.6590400e+05 8.4745950e+06 2.3592900e+05 2.6326300e+05 6.4955000e+04\n",
      " 3.6102000e+04 4.9997500e+05 2.1286500e+05 4.0615900e+05]\n",
      "Pixel count in the testing set: [8.28760000e+04 3.77709270e+07 1.24280910e+07 1.28947780e+07\n",
      " 1.10625570e+07 2.48205700e+06 9.83742800e+06 2.63813555e+08\n",
      " 4.18213870e+07 5.66634200e+06 2.40685400e+06 1.63464176e+08\n",
      " 4.54986800e+06 6.48666600e+06 5.09433000e+05 3.15337100e+06\n",
      " 8.67755000e+05 8.80669900e+06 6.05012000e+05 2.04127000e+06\n",
      " 4.47253700e+06 1.06123604e+08 8.20591200e+06 2.86622730e+07\n",
      " 8.91648500e+06 1.02424900e+06 5.10874750e+07 2.07781700e+06\n",
      " 1.76852300e+06 3.53082000e+05 1.87956000e+05 1.51118900e+06\n",
      " 6.34511000e+05 3.02213300e+06]\n"
     ]
    }
   ],
   "source": [
    "train_count = np.zeros(34)\n",
    "val_count = np.zeros(34)\n",
    "test_count = np.zeros(34)\n",
    "\n",
    "for i in range(len(trn_ds)):\n",
    "    image, mask = trn_ds[i]\n",
    "    train_count += np.bincount(mask.flatten(), minlength = 34)\n",
    "\n",
    "print(\"Pixel count in the training set:\", train_count)\n",
    "\n",
    "for i in range(len(val_ds)):\n",
    "    image, mask = val_ds[i]\n",
    "    val_count += np.bincount(mask.flatten(), minlength = 34)\n",
    "\n",
    "print(\"Pixel count in the validation set:\", val_count)\n",
    "\n",
    "for i in range(len(test_ds)):\n",
    "    image, mask = test_ds[i]\n",
    "    test_count += np.bincount(mask.flatten(), minlength = 34)\n",
    "\n",
    "print(\"Pixel count in the testing set:\", train_count)\n"
   ]
  },
  {
   "attachments": {},
   "cell_type": "markdown",
   "metadata": {},
   "source": [
    "### Calculate Mean Training Dataset Staistics for Normalization"
   ]
  },
  {
   "cell_type": "code",
   "execution_count": 46,
   "metadata": {},
   "outputs": [
    {
     "name": "stderr",
     "output_type": "stream",
     "text": [
      "  1%|          | 1/155 [00:01<04:16,  1.66s/it]"
     ]
    },
    {
     "name": "stdout",
     "output_type": "stream",
     "text": [
      "1\n",
      "Running mean: [0.23786305 0.27982879 0.23795477]\n",
      "Running std dev: [0.1413877  0.15027779 0.14686461]\n"
     ]
    },
    {
     "name": "stderr",
     "output_type": "stream",
     "text": [
      "  1%|▏         | 2/155 [00:03<03:59,  1.56s/it]"
     ]
    },
    {
     "name": "stdout",
     "output_type": "stream",
     "text": [
      "2\n",
      "Running mean: [0.23480281 0.27548064 0.23559354]\n",
      "Running std dev: [0.14495707 0.15336681 0.14899515]\n"
     ]
    },
    {
     "name": "stderr",
     "output_type": "stream",
     "text": [
      "  2%|▏         | 3/155 [00:04<03:54,  1.54s/it]"
     ]
    },
    {
     "name": "stdout",
     "output_type": "stream",
     "text": [
      "3\n",
      "Running mean: [0.2319367  0.27223465 0.23154603]\n",
      "Running std dev: [0.13813775 0.14681644 0.14216044]\n"
     ]
    },
    {
     "name": "stderr",
     "output_type": "stream",
     "text": [
      "  3%|▎         | 4/155 [00:06<03:50,  1.53s/it]"
     ]
    },
    {
     "name": "stdout",
     "output_type": "stream",
     "text": [
      "4\n",
      "Running mean: [0.23429105 0.27513077 0.23457321]\n",
      "Running std dev: [0.14141443 0.15066339 0.14649427]\n"
     ]
    },
    {
     "name": "stderr",
     "output_type": "stream",
     "text": [
      "  3%|▎         | 5/155 [00:07<03:49,  1.53s/it]"
     ]
    },
    {
     "name": "stdout",
     "output_type": "stream",
     "text": [
      "5\n",
      "Running mean: [0.23466744 0.27540706 0.23507252]\n",
      "Running std dev: [0.14330519 0.15284258 0.14876484]\n"
     ]
    },
    {
     "name": "stderr",
     "output_type": "stream",
     "text": [
      "  4%|▍         | 6/155 [00:09<03:44,  1.51s/it]"
     ]
    },
    {
     "name": "stdout",
     "output_type": "stream",
     "text": [
      "6\n",
      "Running mean: [0.23106044 0.2716208  0.23155139]\n",
      "Running std dev: [0.13939314 0.14887591 0.1445073 ]\n"
     ]
    },
    {
     "name": "stderr",
     "output_type": "stream",
     "text": [
      "  5%|▍         | 7/155 [00:10<03:43,  1.51s/it]"
     ]
    },
    {
     "name": "stdout",
     "output_type": "stream",
     "text": [
      "7\n",
      "Running mean: [0.22881073 0.26927479 0.22924874]\n",
      "Running std dev: [0.13592961 0.14549306 0.14057279]\n"
     ]
    },
    {
     "name": "stderr",
     "output_type": "stream",
     "text": [
      "  5%|▌         | 8/155 [00:12<03:41,  1.50s/it]"
     ]
    },
    {
     "name": "stdout",
     "output_type": "stream",
     "text": [
      "8\n",
      "Running mean: [0.22646162 0.26684037 0.22732485]\n",
      "Running std dev: [0.13516416 0.14492916 0.1397778 ]\n"
     ]
    },
    {
     "name": "stderr",
     "output_type": "stream",
     "text": [
      "  6%|▌         | 9/155 [00:13<03:46,  1.55s/it]"
     ]
    },
    {
     "name": "stdout",
     "output_type": "stream",
     "text": [
      "9\n",
      "Running mean: [0.22507321 0.26538051 0.22587239]\n",
      "Running std dev: [0.13490458 0.14475476 0.1393991 ]\n"
     ]
    },
    {
     "name": "stderr",
     "output_type": "stream",
     "text": [
      "  6%|▋         | 10/155 [00:15<03:44,  1.55s/it]"
     ]
    },
    {
     "name": "stdout",
     "output_type": "stream",
     "text": [
      "10\n",
      "Running mean: [0.22434666 0.26505982 0.22535242]\n",
      "Running std dev: [0.13571932 0.14594231 0.14086819]\n"
     ]
    },
    {
     "name": "stderr",
     "output_type": "stream",
     "text": [
      "  7%|▋         | 11/155 [00:16<03:43,  1.56s/it]"
     ]
    },
    {
     "name": "stdout",
     "output_type": "stream",
     "text": [
      "11\n",
      "Running mean: [0.22441334 0.26517892 0.22520408]\n",
      "Running std dev: [0.13513921 0.14526387 0.14004239]\n"
     ]
    },
    {
     "name": "stderr",
     "output_type": "stream",
     "text": [
      "  8%|▊         | 12/155 [00:18<03:41,  1.55s/it]"
     ]
    },
    {
     "name": "stdout",
     "output_type": "stream",
     "text": [
      "12\n",
      "Running mean: [0.23079759 0.27127851 0.23041078]\n",
      "Running std dev: [0.13792687 0.14726781 0.14226323]\n"
     ]
    },
    {
     "name": "stderr",
     "output_type": "stream",
     "text": [
      "  8%|▊         | 13/155 [00:20<03:44,  1.58s/it]"
     ]
    },
    {
     "name": "stdout",
     "output_type": "stream",
     "text": [
      "13\n",
      "Running mean: [0.23519349 0.27534343 0.23415028]\n",
      "Running std dev: [0.13874153 0.14757791 0.14276821]\n"
     ]
    },
    {
     "name": "stderr",
     "output_type": "stream",
     "text": [
      "  9%|▉         | 14/155 [00:21<03:41,  1.57s/it]"
     ]
    },
    {
     "name": "stdout",
     "output_type": "stream",
     "text": [
      "14\n",
      "Running mean: [0.23442389 0.27412638 0.23337104]\n",
      "Running std dev: [0.14121344 0.14969799 0.14485629]\n"
     ]
    },
    {
     "name": "stderr",
     "output_type": "stream",
     "text": [
      " 10%|▉         | 15/155 [00:23<03:44,  1.60s/it]"
     ]
    },
    {
     "name": "stdout",
     "output_type": "stream",
     "text": [
      "15\n",
      "Running mean: [0.23882458 0.27820817 0.2369518 ]\n",
      "Running std dev: [0.1413531  0.14947987 0.14454346]\n"
     ]
    },
    {
     "name": "stderr",
     "output_type": "stream",
     "text": [
      " 10%|█         | 16/155 [00:24<03:43,  1.61s/it]"
     ]
    },
    {
     "name": "stdout",
     "output_type": "stream",
     "text": [
      "16\n",
      "Running mean: [0.24065004 0.28026178 0.2379711 ]\n",
      "Running std dev: [0.14167469 0.14943528 0.14443971]\n"
     ]
    },
    {
     "name": "stderr",
     "output_type": "stream",
     "text": [
      " 11%|█         | 17/155 [00:26<03:40,  1.60s/it]"
     ]
    },
    {
     "name": "stdout",
     "output_type": "stream",
     "text": [
      "17\n",
      "Running mean: [0.2441686  0.28369155 0.24113629]\n",
      "Running std dev: [0.14408998 0.15140891 0.14666844]\n"
     ]
    },
    {
     "name": "stderr",
     "output_type": "stream",
     "text": [
      " 12%|█▏        | 18/155 [00:28<03:35,  1.57s/it]"
     ]
    },
    {
     "name": "stdout",
     "output_type": "stream",
     "text": [
      "18\n",
      "Running mean: [0.24609706 0.28560352 0.24300681]\n",
      "Running std dev: [0.14674121 0.15377391 0.14915397]\n"
     ]
    },
    {
     "name": "stderr",
     "output_type": "stream",
     "text": [
      " 12%|█▏        | 19/155 [00:29<03:34,  1.57s/it]"
     ]
    },
    {
     "name": "stdout",
     "output_type": "stream",
     "text": [
      "19\n",
      "Running mean: [0.24776686 0.28710345 0.24390464]\n",
      "Running std dev: [0.14801676 0.15495921 0.15031124]\n"
     ]
    },
    {
     "name": "stderr",
     "output_type": "stream",
     "text": [
      " 13%|█▎        | 20/155 [00:31<03:30,  1.56s/it]"
     ]
    },
    {
     "name": "stdout",
     "output_type": "stream",
     "text": [
      "20\n",
      "Running mean: [0.24886807 0.28820132 0.24469338]\n",
      "Running std dev: [0.14749003 0.15442402 0.14954288]\n"
     ]
    },
    {
     "name": "stderr",
     "output_type": "stream",
     "text": [
      " 14%|█▎        | 21/155 [00:32<03:30,  1.57s/it]"
     ]
    },
    {
     "name": "stdout",
     "output_type": "stream",
     "text": [
      "21\n",
      "Running mean: [0.24975034 0.28910893 0.24530009]\n",
      "Running std dev: [0.14787829 0.15481375 0.14984054]\n"
     ]
    },
    {
     "name": "stderr",
     "output_type": "stream",
     "text": [
      " 14%|█▍        | 22/155 [00:34<03:27,  1.56s/it]"
     ]
    },
    {
     "name": "stdout",
     "output_type": "stream",
     "text": [
      "22\n",
      "Running mean: [0.25064073 0.29010447 0.24627089]\n",
      "Running std dev: [0.14867224 0.15552544 0.15056944]\n"
     ]
    },
    {
     "name": "stderr",
     "output_type": "stream",
     "text": [
      " 15%|█▍        | 23/155 [00:35<03:26,  1.57s/it]"
     ]
    },
    {
     "name": "stdout",
     "output_type": "stream",
     "text": [
      "23\n",
      "Running mean: [0.25211627 0.29173447 0.24787654]\n",
      "Running std dev: [0.15066882 0.15748123 0.15281707]\n"
     ]
    },
    {
     "name": "stderr",
     "output_type": "stream",
     "text": [
      " 15%|█▌        | 24/155 [00:37<03:22,  1.55s/it]"
     ]
    },
    {
     "name": "stdout",
     "output_type": "stream",
     "text": [
      "24\n",
      "Running mean: [0.25331672 0.29297    0.24897212]\n",
      "Running std dev: [0.15190507 0.15865369 0.15413596]\n"
     ]
    },
    {
     "name": "stderr",
     "output_type": "stream",
     "text": [
      " 16%|█▌        | 25/155 [00:38<03:20,  1.54s/it]"
     ]
    },
    {
     "name": "stdout",
     "output_type": "stream",
     "text": [
      "25\n",
      "Running mean: [0.2539322  0.29380064 0.2495181 ]\n",
      "Running std dev: [0.15296544 0.15973585 0.15542014]\n"
     ]
    },
    {
     "name": "stderr",
     "output_type": "stream",
     "text": [
      " 17%|█▋        | 26/155 [00:40<03:21,  1.56s/it]"
     ]
    },
    {
     "name": "stdout",
     "output_type": "stream",
     "text": [
      "26\n",
      "Running mean: [0.25473761 0.29486327 0.25048566]\n",
      "Running std dev: [0.15285744 0.15982136 0.15577783]\n"
     ]
    },
    {
     "name": "stderr",
     "output_type": "stream",
     "text": [
      " 17%|█▋        | 27/155 [00:42<03:18,  1.55s/it]"
     ]
    },
    {
     "name": "stdout",
     "output_type": "stream",
     "text": [
      "27\n",
      "Running mean: [0.2552405  0.2956339  0.25118609]\n",
      "Running std dev: [0.15300833 0.16019954 0.15631581]\n"
     ]
    },
    {
     "name": "stderr",
     "output_type": "stream",
     "text": [
      " 18%|█▊        | 28/155 [00:43<03:16,  1.55s/it]"
     ]
    },
    {
     "name": "stdout",
     "output_type": "stream",
     "text": [
      "28\n",
      "Running mean: [0.25563986 0.29607469 0.25147093]\n",
      "Running std dev: [0.15451108 0.16167086 0.15788169]\n"
     ]
    },
    {
     "name": "stderr",
     "output_type": "stream",
     "text": [
      " 19%|█▊        | 29/155 [00:45<03:16,  1.56s/it]"
     ]
    },
    {
     "name": "stdout",
     "output_type": "stream",
     "text": [
      "29\n",
      "Running mean: [0.2561225  0.29665923 0.25199772]\n",
      "Running std dev: [0.1555421  0.16279777 0.15914024]\n"
     ]
    },
    {
     "name": "stderr",
     "output_type": "stream",
     "text": [
      " 19%|█▉        | 30/155 [00:46<03:13,  1.55s/it]"
     ]
    },
    {
     "name": "stdout",
     "output_type": "stream",
     "text": [
      "30\n",
      "Running mean: [0.25652118 0.29722649 0.25263255]\n",
      "Running std dev: [0.15613478 0.16346253 0.15992287]\n"
     ]
    },
    {
     "name": "stderr",
     "output_type": "stream",
     "text": [
      " 20%|██        | 31/155 [00:48<03:12,  1.55s/it]"
     ]
    },
    {
     "name": "stdout",
     "output_type": "stream",
     "text": [
      "31\n",
      "Running mean: [0.2569274  0.29762817 0.2529863 ]\n",
      "Running std dev: [0.15686566 0.16414842 0.16068011]\n"
     ]
    },
    {
     "name": "stderr",
     "output_type": "stream",
     "text": [
      " 21%|██        | 32/155 [00:49<03:10,  1.55s/it]"
     ]
    },
    {
     "name": "stdout",
     "output_type": "stream",
     "text": [
      "32\n",
      "Running mean: [0.25738226 0.29818528 0.25364887]\n",
      "Running std dev: [0.15737325 0.16476027 0.1613578 ]\n"
     ]
    },
    {
     "name": "stderr",
     "output_type": "stream",
     "text": [
      " 21%|██▏       | 33/155 [00:51<03:08,  1.55s/it]"
     ]
    },
    {
     "name": "stdout",
     "output_type": "stream",
     "text": [
      "33\n",
      "Running mean: [0.25776043 0.29862888 0.25409275]\n",
      "Running std dev: [0.15753822 0.16506292 0.161736  ]\n"
     ]
    },
    {
     "name": "stderr",
     "output_type": "stream",
     "text": [
      " 22%|██▏       | 34/155 [00:52<03:05,  1.54s/it]"
     ]
    },
    {
     "name": "stdout",
     "output_type": "stream",
     "text": [
      "34\n",
      "Running mean: [0.25802606 0.29905748 0.25463382]\n",
      "Running std dev: [0.15773346 0.16541119 0.16217784]\n"
     ]
    },
    {
     "name": "stderr",
     "output_type": "stream",
     "text": [
      " 23%|██▎       | 35/155 [00:54<03:05,  1.55s/it]"
     ]
    },
    {
     "name": "stdout",
     "output_type": "stream",
     "text": [
      "35\n",
      "Running mean: [0.25813936 0.29922374 0.25479808]\n",
      "Running std dev: [0.1580132  0.16570276 0.16249966]\n"
     ]
    },
    {
     "name": "stderr",
     "output_type": "stream",
     "text": [
      " 23%|██▎       | 36/155 [00:55<03:01,  1.52s/it]"
     ]
    },
    {
     "name": "stdout",
     "output_type": "stream",
     "text": [
      "36\n",
      "Running mean: [0.25835943 0.29955475 0.25508635]\n",
      "Running std dev: [0.15881789 0.16635521 0.16332045]\n"
     ]
    },
    {
     "name": "stderr",
     "output_type": "stream",
     "text": [
      " 24%|██▍       | 37/155 [00:57<03:02,  1.55s/it]"
     ]
    },
    {
     "name": "stdout",
     "output_type": "stream",
     "text": [
      "37\n",
      "Running mean: [0.25867605 0.29988645 0.25559448]\n",
      "Running std dev: [0.15968677 0.1671623  0.16417237]\n"
     ]
    },
    {
     "name": "stderr",
     "output_type": "stream",
     "text": [
      " 25%|██▍       | 38/155 [00:59<03:02,  1.56s/it]"
     ]
    },
    {
     "name": "stdout",
     "output_type": "stream",
     "text": [
      "38\n",
      "Running mean: [0.25972449 0.30102902 0.25684346]\n",
      "Running std dev: [0.1604246  0.16782552 0.16485901]\n"
     ]
    },
    {
     "name": "stderr",
     "output_type": "stream",
     "text": [
      " 25%|██▌       | 39/155 [01:00<03:02,  1.58s/it]"
     ]
    },
    {
     "name": "stdout",
     "output_type": "stream",
     "text": [
      "39\n",
      "Running mean: [0.26008346 0.30146359 0.25724124]\n",
      "Running std dev: [0.16095509 0.16828979 0.16520981]\n"
     ]
    },
    {
     "name": "stderr",
     "output_type": "stream",
     "text": [
      " 26%|██▌       | 40/155 [01:02<02:59,  1.56s/it]"
     ]
    },
    {
     "name": "stdout",
     "output_type": "stream",
     "text": [
      "40\n",
      "Running mean: [0.26076257 0.30219863 0.25805971]\n",
      "Running std dev: [0.1620508  0.16930061 0.16619559]\n"
     ]
    },
    {
     "name": "stderr",
     "output_type": "stream",
     "text": [
      " 26%|██▋       | 41/155 [01:03<02:57,  1.56s/it]"
     ]
    },
    {
     "name": "stdout",
     "output_type": "stream",
     "text": [
      "41\n",
      "Running mean: [0.26143603 0.30294002 0.25896112]\n",
      "Running std dev: [0.16272878 0.16987391 0.16679424]\n"
     ]
    },
    {
     "name": "stderr",
     "output_type": "stream",
     "text": [
      " 27%|██▋       | 42/155 [01:05<02:52,  1.53s/it]"
     ]
    },
    {
     "name": "stdout",
     "output_type": "stream",
     "text": [
      "42\n",
      "Running mean: [0.26149344 0.30301499 0.25926136]\n",
      "Running std dev: [0.1630414  0.17009935 0.16704131]\n"
     ]
    },
    {
     "name": "stderr",
     "output_type": "stream",
     "text": [
      " 28%|██▊       | 43/155 [01:06<02:52,  1.54s/it]"
     ]
    },
    {
     "name": "stdout",
     "output_type": "stream",
     "text": [
      "43\n",
      "Running mean: [0.26174226 0.30328586 0.25963784]\n",
      "Running std dev: [0.16321404 0.17024883 0.16719698]\n"
     ]
    },
    {
     "name": "stderr",
     "output_type": "stream",
     "text": [
      " 28%|██▊       | 44/155 [01:08<02:51,  1.55s/it]"
     ]
    },
    {
     "name": "stdout",
     "output_type": "stream",
     "text": [
      "44\n",
      "Running mean: [0.2618454  0.30350014 0.26016853]\n",
      "Running std dev: [0.16400502 0.17100653 0.16801847]\n"
     ]
    },
    {
     "name": "stderr",
     "output_type": "stream",
     "text": [
      " 29%|██▉       | 45/155 [01:10<02:57,  1.61s/it]"
     ]
    },
    {
     "name": "stdout",
     "output_type": "stream",
     "text": [
      "45\n",
      "Running mean: [0.26238342 0.30406006 0.26085348]\n",
      "Running std dev: [0.16428523 0.17126424 0.16823563]\n"
     ]
    },
    {
     "name": "stderr",
     "output_type": "stream",
     "text": [
      " 30%|██▉       | 46/155 [01:11<02:57,  1.63s/it]"
     ]
    },
    {
     "name": "stdout",
     "output_type": "stream",
     "text": [
      "46\n",
      "Running mean: [0.26227155 0.30403575 0.26113794]\n",
      "Running std dev: [0.16490981 0.17178307 0.16881688]\n"
     ]
    },
    {
     "name": "stderr",
     "output_type": "stream",
     "text": [
      " 30%|███       | 47/155 [01:13<02:56,  1.63s/it]"
     ]
    },
    {
     "name": "stdout",
     "output_type": "stream",
     "text": [
      "47\n",
      "Running mean: [0.26216664 0.30413316 0.26174262]\n",
      "Running std dev: [0.16609494 0.17298973 0.17010063]\n"
     ]
    },
    {
     "name": "stderr",
     "output_type": "stream",
     "text": [
      " 31%|███       | 48/155 [01:15<02:53,  1.62s/it]"
     ]
    },
    {
     "name": "stdout",
     "output_type": "stream",
     "text": [
      "48\n",
      "Running mean: [0.26220906 0.30435025 0.26245165]\n",
      "Running std dev: [0.16751607 0.17439433 0.1715024 ]\n"
     ]
    },
    {
     "name": "stderr",
     "output_type": "stream",
     "text": [
      " 32%|███▏      | 49/155 [01:16<02:50,  1.61s/it]"
     ]
    },
    {
     "name": "stdout",
     "output_type": "stream",
     "text": [
      "49\n",
      "Running mean: [0.26179271 0.30419992 0.26295585]\n",
      "Running std dev: [0.16861795 0.17546917 0.17253274]\n"
     ]
    },
    {
     "name": "stderr",
     "output_type": "stream",
     "text": [
      " 32%|███▏      | 50/155 [01:18<02:46,  1.59s/it]"
     ]
    },
    {
     "name": "stdout",
     "output_type": "stream",
     "text": [
      "50\n",
      "Running mean: [0.26144892 0.30422812 0.2637739 ]\n",
      "Running std dev: [0.1698957  0.17667505 0.17369854]\n"
     ]
    },
    {
     "name": "stderr",
     "output_type": "stream",
     "text": [
      " 33%|███▎      | 51/155 [01:19<02:46,  1.60s/it]"
     ]
    },
    {
     "name": "stdout",
     "output_type": "stream",
     "text": [
      "51\n",
      "Running mean: [0.2611843  0.30413199 0.26411351]\n",
      "Running std dev: [0.17073193 0.17747027 0.17443354]\n"
     ]
    },
    {
     "name": "stderr",
     "output_type": "stream",
     "text": [
      " 34%|███▎      | 52/155 [01:21<02:44,  1.59s/it]"
     ]
    },
    {
     "name": "stdout",
     "output_type": "stream",
     "text": [
      "52\n",
      "Running mean: [0.26075094 0.30378655 0.26390918]\n",
      "Running std dev: [0.17110216 0.17790483 0.17487034]\n"
     ]
    },
    {
     "name": "stderr",
     "output_type": "stream",
     "text": [
      " 34%|███▍      | 53/155 [01:22<02:42,  1.59s/it]"
     ]
    },
    {
     "name": "stdout",
     "output_type": "stream",
     "text": [
      "53\n",
      "Running mean: [0.25987847 0.3028886  0.26296677]\n",
      "Running std dev: [0.17054875 0.17744144 0.17430371]\n"
     ]
    },
    {
     "name": "stderr",
     "output_type": "stream",
     "text": [
      " 35%|███▍      | 54/155 [01:24<02:39,  1.58s/it]"
     ]
    },
    {
     "name": "stdout",
     "output_type": "stream",
     "text": [
      "54\n",
      "Running mean: [0.25894222 0.30197024 0.26210686]\n",
      "Running std dev: [0.1699077  0.17688225 0.17369375]\n"
     ]
    },
    {
     "name": "stderr",
     "output_type": "stream",
     "text": [
      " 35%|███▌      | 55/155 [01:26<02:40,  1.60s/it]"
     ]
    },
    {
     "name": "stdout",
     "output_type": "stream",
     "text": [
      "55\n",
      "Running mean: [0.25811743 0.30121048 0.26129012]\n",
      "Running std dev: [0.1693857  0.17641141 0.17319448]\n"
     ]
    },
    {
     "name": "stderr",
     "output_type": "stream",
     "text": [
      " 36%|███▌      | 56/155 [01:27<02:37,  1.59s/it]"
     ]
    },
    {
     "name": "stdout",
     "output_type": "stream",
     "text": [
      "56\n",
      "Running mean: [0.25745069 0.30056008 0.26058515]\n",
      "Running std dev: [0.16872434 0.17577386 0.17251877]\n"
     ]
    },
    {
     "name": "stderr",
     "output_type": "stream",
     "text": [
      " 37%|███▋      | 57/155 [01:29<02:38,  1.62s/it]"
     ]
    },
    {
     "name": "stdout",
     "output_type": "stream",
     "text": [
      "57\n",
      "Running mean: [0.25659932 0.29972782 0.25985196]\n",
      "Running std dev: [0.16812937 0.17525076 0.17193015]\n"
     ]
    },
    {
     "name": "stderr",
     "output_type": "stream",
     "text": [
      " 37%|███▋      | 58/155 [01:30<02:34,  1.59s/it]"
     ]
    },
    {
     "name": "stdout",
     "output_type": "stream",
     "text": [
      "58\n",
      "Running mean: [0.25579902 0.29895851 0.25918526]\n",
      "Running std dev: [0.16762124 0.17485154 0.17148925]\n"
     ]
    },
    {
     "name": "stderr",
     "output_type": "stream",
     "text": [
      " 38%|███▊      | 59/155 [01:32<02:32,  1.58s/it]"
     ]
    },
    {
     "name": "stdout",
     "output_type": "stream",
     "text": [
      "59\n",
      "Running mean: [0.25512049 0.29832932 0.25859451]\n",
      "Running std dev: [0.16729316 0.17458915 0.17120279]\n"
     ]
    },
    {
     "name": "stderr",
     "output_type": "stream",
     "text": [
      " 39%|███▊      | 60/155 [01:34<02:34,  1.63s/it]"
     ]
    },
    {
     "name": "stdout",
     "output_type": "stream",
     "text": [
      "60\n",
      "Running mean: [0.25438633 0.2976321  0.25797046]\n",
      "Running std dev: [0.16705342 0.17442812 0.1710431 ]\n"
     ]
    },
    {
     "name": "stderr",
     "output_type": "stream",
     "text": [
      " 39%|███▉      | 61/155 [01:35<02:34,  1.64s/it]"
     ]
    },
    {
     "name": "stdout",
     "output_type": "stream",
     "text": [
      "61\n",
      "Running mean: [0.25357368 0.29681091 0.25727837]\n",
      "Running std dev: [0.1665446  0.17399479 0.17056262]\n"
     ]
    },
    {
     "name": "stderr",
     "output_type": "stream",
     "text": [
      " 40%|████      | 62/155 [01:37<02:31,  1.63s/it]"
     ]
    },
    {
     "name": "stdout",
     "output_type": "stream",
     "text": [
      "62\n",
      "Running mean: [0.2528255  0.29607206 0.25664088]\n",
      "Running std dev: [0.16596422 0.17347266 0.17000312]\n"
     ]
    },
    {
     "name": "stderr",
     "output_type": "stream",
     "text": [
      " 41%|████      | 63/155 [01:39<02:29,  1.62s/it]"
     ]
    },
    {
     "name": "stdout",
     "output_type": "stream",
     "text": [
      "63\n",
      "Running mean: [0.2522     0.29544088 0.25606732]\n",
      "Running std dev: [0.16537576 0.17295311 0.16941042]\n"
     ]
    },
    {
     "name": "stderr",
     "output_type": "stream",
     "text": [
      " 41%|████▏     | 64/155 [01:40<02:27,  1.62s/it]"
     ]
    },
    {
     "name": "stdout",
     "output_type": "stream",
     "text": [
      "64\n",
      "Running mean: [0.25135176 0.29458248 0.25532856]\n",
      "Running std dev: [0.1646605  0.17230381 0.1686963 ]\n"
     ]
    },
    {
     "name": "stderr",
     "output_type": "stream",
     "text": [
      " 42%|████▏     | 65/155 [01:42<02:25,  1.62s/it]"
     ]
    },
    {
     "name": "stdout",
     "output_type": "stream",
     "text": [
      "65\n",
      "Running mean: [0.250795   0.29404887 0.25490341]\n",
      "Running std dev: [0.16427044 0.17196356 0.16831724]\n"
     ]
    },
    {
     "name": "stderr",
     "output_type": "stream",
     "text": [
      " 43%|████▎     | 66/155 [01:44<02:27,  1.65s/it]"
     ]
    },
    {
     "name": "stdout",
     "output_type": "stream",
     "text": [
      "66\n",
      "Running mean: [0.25071721 0.29401171 0.25485733]\n",
      "Running std dev: [0.16410973 0.17185906 0.16817584]\n"
     ]
    },
    {
     "name": "stderr",
     "output_type": "stream",
     "text": [
      " 43%|████▎     | 67/155 [01:45<02:23,  1.63s/it]"
     ]
    },
    {
     "name": "stdout",
     "output_type": "stream",
     "text": [
      "67\n",
      "Running mean: [0.2506684  0.29396031 0.25476453]\n",
      "Running std dev: [0.16397952 0.17177384 0.16811083]\n"
     ]
    },
    {
     "name": "stderr",
     "output_type": "stream",
     "text": [
      " 44%|████▍     | 68/155 [01:47<02:23,  1.65s/it]"
     ]
    },
    {
     "name": "stdout",
     "output_type": "stream",
     "text": [
      "68\n",
      "Running mean: [0.25036078 0.2936111  0.25437021]\n",
      "Running std dev: [0.16347008 0.17131024 0.16760431]\n"
     ]
    },
    {
     "name": "stderr",
     "output_type": "stream",
     "text": [
      " 45%|████▍     | 69/155 [01:49<02:23,  1.67s/it]"
     ]
    },
    {
     "name": "stdout",
     "output_type": "stream",
     "text": [
      "69\n",
      "Running mean: [0.24999114 0.29316673 0.25388869]\n",
      "Running std dev: [0.16308656 0.1709765  0.16722384]\n"
     ]
    },
    {
     "name": "stderr",
     "output_type": "stream",
     "text": [
      " 45%|████▌     | 70/155 [01:50<02:19,  1.64s/it]"
     ]
    },
    {
     "name": "stdout",
     "output_type": "stream",
     "text": [
      "70\n",
      "Running mean: [0.24964899 0.29271826 0.25341342]\n",
      "Running std dev: [0.16261109 0.17055888 0.16674636]\n"
     ]
    },
    {
     "name": "stderr",
     "output_type": "stream",
     "text": [
      " 46%|████▌     | 71/155 [01:52<02:17,  1.64s/it]"
     ]
    },
    {
     "name": "stdout",
     "output_type": "stream",
     "text": [
      "71\n",
      "Running mean: [0.24944437 0.2924599  0.25307262]\n",
      "Running std dev: [0.16208769 0.17006528 0.16621319]\n"
     ]
    },
    {
     "name": "stderr",
     "output_type": "stream",
     "text": [
      " 46%|████▋     | 72/155 [01:53<02:15,  1.64s/it]"
     ]
    },
    {
     "name": "stdout",
     "output_type": "stream",
     "text": [
      "72\n",
      "Running mean: [0.24888632 0.2918549  0.25250726]\n",
      "Running std dev: [0.16177943 0.16982412 0.16593973]\n"
     ]
    },
    {
     "name": "stderr",
     "output_type": "stream",
     "text": [
      " 47%|████▋     | 73/155 [01:55<02:15,  1.65s/it]"
     ]
    },
    {
     "name": "stdout",
     "output_type": "stream",
     "text": [
      "73\n",
      "Running mean: [0.24985561 0.29266279 0.25329512]\n",
      "Running std dev: [0.16245138 0.170436   0.16655137]\n"
     ]
    },
    {
     "name": "stderr",
     "output_type": "stream",
     "text": [
      " 48%|████▊     | 74/155 [01:57<02:14,  1.66s/it]"
     ]
    },
    {
     "name": "stdout",
     "output_type": "stream",
     "text": [
      "74\n",
      "Running mean: [0.2509734  0.29360467 0.25415383]\n",
      "Running std dev: [0.1631063  0.17096027 0.16707998]\n"
     ]
    },
    {
     "name": "stderr",
     "output_type": "stream",
     "text": [
      " 48%|████▊     | 75/155 [01:58<02:11,  1.64s/it]"
     ]
    },
    {
     "name": "stdout",
     "output_type": "stream",
     "text": [
      "75\n",
      "Running mean: [0.25202513 0.29445773 0.25488741]\n",
      "Running std dev: [0.16336474 0.17110566 0.16722795]\n"
     ]
    },
    {
     "name": "stderr",
     "output_type": "stream",
     "text": [
      " 49%|████▉     | 76/155 [02:00<02:09,  1.63s/it]"
     ]
    },
    {
     "name": "stdout",
     "output_type": "stream",
     "text": [
      "76\n",
      "Running mean: [0.2532583  0.29552413 0.25600572]\n",
      "Running std dev: [0.16394977 0.17164648 0.16785086]\n"
     ]
    },
    {
     "name": "stderr",
     "output_type": "stream",
     "text": [
      " 50%|████▉     | 77/155 [02:02<02:06,  1.63s/it]"
     ]
    },
    {
     "name": "stdout",
     "output_type": "stream",
     "text": [
      "77\n",
      "Running mean: [0.25449    0.29659585 0.2570458 ]\n",
      "Running std dev: [0.16424223 0.17188318 0.16813818]\n"
     ]
    },
    {
     "name": "stderr",
     "output_type": "stream",
     "text": [
      " 50%|█████     | 78/155 [02:03<02:03,  1.61s/it]"
     ]
    },
    {
     "name": "stdout",
     "output_type": "stream",
     "text": [
      "78\n",
      "Running mean: [0.25554644 0.29749472 0.25800445]\n",
      "Running std dev: [0.16439484 0.17198624 0.16830428]\n"
     ]
    },
    {
     "name": "stderr",
     "output_type": "stream",
     "text": [
      " 51%|█████     | 79/155 [02:05<02:02,  1.61s/it]"
     ]
    },
    {
     "name": "stdout",
     "output_type": "stream",
     "text": [
      "79\n",
      "Running mean: [0.25639296 0.29816903 0.25863364]\n",
      "Running std dev: [0.16456702 0.17208364 0.1683769 ]\n"
     ]
    },
    {
     "name": "stderr",
     "output_type": "stream",
     "text": [
      " 52%|█████▏    | 80/155 [02:06<02:02,  1.63s/it]"
     ]
    },
    {
     "name": "stdout",
     "output_type": "stream",
     "text": [
      "80\n",
      "Running mean: [0.25751469 0.29912685 0.25954913]\n",
      "Running std dev: [0.16487858 0.17232974 0.16865591]\n"
     ]
    },
    {
     "name": "stderr",
     "output_type": "stream",
     "text": [
      " 52%|█████▏    | 81/155 [02:08<02:00,  1.63s/it]"
     ]
    },
    {
     "name": "stdout",
     "output_type": "stream",
     "text": [
      "81\n",
      "Running mean: [0.2583136  0.29977792 0.26014569]\n",
      "Running std dev: [0.16513388 0.17252556 0.16890681]\n"
     ]
    },
    {
     "name": "stderr",
     "output_type": "stream",
     "text": [
      " 53%|█████▎    | 82/155 [02:10<01:57,  1.61s/it]"
     ]
    },
    {
     "name": "stdout",
     "output_type": "stream",
     "text": [
      "82\n",
      "Running mean: [0.25915092 0.30048555 0.26085974]\n",
      "Running std dev: [0.1653864  0.17277885 0.1692655 ]\n"
     ]
    },
    {
     "name": "stderr",
     "output_type": "stream",
     "text": [
      " 54%|█████▎    | 83/155 [02:11<01:56,  1.61s/it]"
     ]
    },
    {
     "name": "stdout",
     "output_type": "stream",
     "text": [
      "83\n",
      "Running mean: [0.26003791 0.30124651 0.26152514]\n",
      "Running std dev: [0.16568392 0.17302351 0.16952601]\n"
     ]
    },
    {
     "name": "stderr",
     "output_type": "stream",
     "text": [
      " 54%|█████▍    | 84/155 [02:13<01:54,  1.61s/it]"
     ]
    },
    {
     "name": "stdout",
     "output_type": "stream",
     "text": [
      "84\n",
      "Running mean: [0.26080454 0.30184172 0.26197572]\n",
      "Running std dev: [0.16588638 0.17316676 0.1696479 ]\n"
     ]
    },
    {
     "name": "stderr",
     "output_type": "stream",
     "text": [
      " 55%|█████▍    | 85/155 [02:15<01:53,  1.63s/it]"
     ]
    },
    {
     "name": "stdout",
     "output_type": "stream",
     "text": [
      "85\n",
      "Running mean: [0.26138521 0.30230552 0.26231924]\n",
      "Running std dev: [0.1660252  0.17323654 0.16969069]\n"
     ]
    },
    {
     "name": "stderr",
     "output_type": "stream",
     "text": [
      " 55%|█████▌    | 86/155 [02:16<01:50,  1.60s/it]"
     ]
    },
    {
     "name": "stdout",
     "output_type": "stream",
     "text": [
      "86\n",
      "Running mean: [0.26221763 0.30297849 0.26295996]\n",
      "Running std dev: [0.16604145 0.17319481 0.16967814]\n"
     ]
    },
    {
     "name": "stderr",
     "output_type": "stream",
     "text": [
      " 56%|█████▌    | 87/155 [02:18<01:50,  1.62s/it]"
     ]
    },
    {
     "name": "stdout",
     "output_type": "stream",
     "text": [
      "87\n",
      "Running mean: [0.26291159 0.30357571 0.26355849]\n",
      "Running std dev: [0.16634061 0.1734539  0.16999425]\n"
     ]
    },
    {
     "name": "stderr",
     "output_type": "stream",
     "text": [
      " 57%|█████▋    | 88/155 [02:19<01:48,  1.62s/it]"
     ]
    },
    {
     "name": "stdout",
     "output_type": "stream",
     "text": [
      "88\n",
      "Running mean: [0.26350222 0.30403001 0.26396712]\n",
      "Running std dev: [0.16646285 0.17355403 0.17013925]\n"
     ]
    },
    {
     "name": "stderr",
     "output_type": "stream",
     "text": [
      " 57%|█████▋    | 89/155 [02:21<01:47,  1.63s/it]"
     ]
    },
    {
     "name": "stdout",
     "output_type": "stream",
     "text": [
      "89\n",
      "Running mean: [0.26403612 0.30448407 0.26431871]\n",
      "Running std dev: [0.16640494 0.17343259 0.17002711]\n"
     ]
    },
    {
     "name": "stderr",
     "output_type": "stream",
     "text": [
      " 58%|█████▊    | 90/155 [02:23<01:45,  1.62s/it]"
     ]
    },
    {
     "name": "stdout",
     "output_type": "stream",
     "text": [
      "90\n",
      "Running mean: [0.26475333 0.30505583 0.26483753]\n",
      "Running std dev: [0.16661427 0.17357134 0.17016365]\n"
     ]
    },
    {
     "name": "stderr",
     "output_type": "stream",
     "text": [
      " 59%|█████▊    | 91/155 [02:24<01:45,  1.65s/it]"
     ]
    },
    {
     "name": "stdout",
     "output_type": "stream",
     "text": [
      "91\n",
      "Running mean: [0.26534181 0.3055833  0.26534966]\n",
      "Running std dev: [0.16692818 0.17378144 0.17043646]\n"
     ]
    },
    {
     "name": "stderr",
     "output_type": "stream",
     "text": [
      " 59%|█████▉    | 92/155 [02:26<01:44,  1.65s/it]"
     ]
    },
    {
     "name": "stdout",
     "output_type": "stream",
     "text": [
      "92\n",
      "Running mean: [0.26578267 0.30602849 0.26579859]\n",
      "Running std dev: [0.16696506 0.17374859 0.17042641]\n"
     ]
    },
    {
     "name": "stderr",
     "output_type": "stream",
     "text": [
      " 60%|██████    | 93/155 [02:28<01:43,  1.66s/it]"
     ]
    },
    {
     "name": "stdout",
     "output_type": "stream",
     "text": [
      "93\n",
      "Running mean: [0.26614797 0.30642902 0.2663921 ]\n",
      "Running std dev: [0.16727039 0.17396161 0.17065545]\n"
     ]
    },
    {
     "name": "stderr",
     "output_type": "stream",
     "text": [
      " 61%|██████    | 94/155 [02:29<01:40,  1.64s/it]"
     ]
    },
    {
     "name": "stdout",
     "output_type": "stream",
     "text": [
      "94\n",
      "Running mean: [0.26658    0.30692054 0.26708185]\n",
      "Running std dev: [0.16769028 0.17432269 0.17106701]\n"
     ]
    },
    {
     "name": "stderr",
     "output_type": "stream",
     "text": [
      " 61%|██████▏   | 95/155 [02:31<01:40,  1.67s/it]"
     ]
    },
    {
     "name": "stdout",
     "output_type": "stream",
     "text": [
      "95\n",
      "Running mean: [0.26696879 0.30734472 0.267665  ]\n",
      "Running std dev: [0.16773823 0.1743024  0.17106533]\n"
     ]
    },
    {
     "name": "stderr",
     "output_type": "stream",
     "text": [
      " 62%|██████▏   | 96/155 [02:33<01:46,  1.80s/it]"
     ]
    },
    {
     "name": "stdout",
     "output_type": "stream",
     "text": [
      "96\n",
      "Running mean: [0.26748744 0.3078504  0.26827114]\n",
      "Running std dev: [0.16796135 0.17445515 0.17124363]\n"
     ]
    },
    {
     "name": "stderr",
     "output_type": "stream",
     "text": [
      " 63%|██████▎   | 97/155 [02:35<01:42,  1.77s/it]"
     ]
    },
    {
     "name": "stdout",
     "output_type": "stream",
     "text": [
      "97\n",
      "Running mean: [0.26799218 0.3082692  0.2686957 ]\n",
      "Running std dev: [0.16813934 0.17456861 0.17136375]\n"
     ]
    },
    {
     "name": "stderr",
     "output_type": "stream",
     "text": [
      " 63%|██████▎   | 98/155 [02:36<01:38,  1.72s/it]"
     ]
    },
    {
     "name": "stdout",
     "output_type": "stream",
     "text": [
      "98\n",
      "Running mean: [0.26861403 0.30881389 0.26920838]\n",
      "Running std dev: [0.16844862 0.17481529 0.17164028]\n"
     ]
    },
    {
     "name": "stderr",
     "output_type": "stream",
     "text": [
      " 64%|██████▍   | 99/155 [02:38<01:35,  1.70s/it]"
     ]
    },
    {
     "name": "stdout",
     "output_type": "stream",
     "text": [
      "99\n",
      "Running mean: [0.26915066 0.30930141 0.26970611]\n",
      "Running std dev: [0.16885016 0.17516068 0.17199698]\n"
     ]
    },
    {
     "name": "stderr",
     "output_type": "stream",
     "text": [
      " 65%|██████▍   | 100/155 [02:40<01:33,  1.70s/it]"
     ]
    },
    {
     "name": "stdout",
     "output_type": "stream",
     "text": [
      "100\n",
      "Running mean: [0.26974349 0.30980702 0.27010217]\n",
      "Running std dev: [0.16930286 0.17554656 0.17237037]\n"
     ]
    },
    {
     "name": "stderr",
     "output_type": "stream",
     "text": [
      " 65%|██████▌   | 101/155 [02:41<01:30,  1.68s/it]"
     ]
    },
    {
     "name": "stdout",
     "output_type": "stream",
     "text": [
      "101\n",
      "Running mean: [0.26956987 0.30969457 0.27003359]\n",
      "Running std dev: [0.16920115 0.17546124 0.17229806]\n"
     ]
    },
    {
     "name": "stderr",
     "output_type": "stream",
     "text": [
      " 66%|██████▌   | 102/155 [02:43<01:28,  1.67s/it]"
     ]
    },
    {
     "name": "stdout",
     "output_type": "stream",
     "text": [
      "102\n",
      "Running mean: [0.26951244 0.30971702 0.27002781]\n",
      "Running std dev: [0.16911498 0.17536429 0.17220223]\n"
     ]
    },
    {
     "name": "stderr",
     "output_type": "stream",
     "text": [
      " 66%|██████▋   | 103/155 [02:45<01:29,  1.73s/it]"
     ]
    },
    {
     "name": "stdout",
     "output_type": "stream",
     "text": [
      "103\n",
      "Running mean: [0.26969127 0.30990966 0.27013952]\n",
      "Running std dev: [0.16930861 0.17552866 0.17238895]\n"
     ]
    },
    {
     "name": "stderr",
     "output_type": "stream",
     "text": [
      " 67%|██████▋   | 104/155 [02:47<01:29,  1.75s/it]"
     ]
    },
    {
     "name": "stdout",
     "output_type": "stream",
     "text": [
      "104\n",
      "Running mean: [0.26960942 0.30985503 0.27001757]\n",
      "Running std dev: [0.16908675 0.17531188 0.17216315]\n"
     ]
    },
    {
     "name": "stderr",
     "output_type": "stream",
     "text": [
      " 68%|██████▊   | 105/155 [02:49<01:29,  1.79s/it]"
     ]
    },
    {
     "name": "stdout",
     "output_type": "stream",
     "text": [
      "105\n",
      "Running mean: [0.2695081  0.309769   0.26988137]\n",
      "Running std dev: [0.16885442 0.17509826 0.17197063]\n"
     ]
    },
    {
     "name": "stderr",
     "output_type": "stream",
     "text": [
      " 68%|██████▊   | 106/155 [02:50<01:27,  1.79s/it]"
     ]
    },
    {
     "name": "stdout",
     "output_type": "stream",
     "text": [
      "106\n",
      "Running mean: [0.26945205 0.30975643 0.26985994]\n",
      "Running std dev: [0.16881371 0.1750698  0.17196895]\n"
     ]
    },
    {
     "name": "stderr",
     "output_type": "stream",
     "text": [
      " 69%|██████▉   | 107/155 [02:52<01:24,  1.76s/it]"
     ]
    },
    {
     "name": "stdout",
     "output_type": "stream",
     "text": [
      "107\n",
      "Running mean: [0.26931435 0.30968234 0.26976671]\n",
      "Running std dev: [0.16886497 0.17508989 0.17200609]\n"
     ]
    },
    {
     "name": "stderr",
     "output_type": "stream",
     "text": [
      " 70%|██████▉   | 108/155 [02:54<01:25,  1.81s/it]"
     ]
    },
    {
     "name": "stdout",
     "output_type": "stream",
     "text": [
      "108\n",
      "Running mean: [0.26957074 0.30990481 0.26991818]\n",
      "Running std dev: [0.16907394 0.17524091 0.17216276]\n"
     ]
    },
    {
     "name": "stderr",
     "output_type": "stream",
     "text": [
      " 70%|███████   | 109/155 [02:56<01:21,  1.77s/it]"
     ]
    },
    {
     "name": "stdout",
     "output_type": "stream",
     "text": [
      "109\n",
      "Running mean: [0.27006383 0.3102756  0.27024313]\n",
      "Running std dev: [0.16935099 0.17546217 0.17240303]\n"
     ]
    },
    {
     "name": "stderr",
     "output_type": "stream",
     "text": [
      " 71%|███████   | 110/155 [02:57<01:17,  1.72s/it]"
     ]
    },
    {
     "name": "stdout",
     "output_type": "stream",
     "text": [
      "110\n",
      "Running mean: [0.2704691  0.31058314 0.27054381]\n",
      "Running std dev: [0.1695607  0.17563987 0.17260935]\n"
     ]
    },
    {
     "name": "stderr",
     "output_type": "stream",
     "text": [
      " 72%|███████▏  | 111/155 [02:59<01:15,  1.71s/it]"
     ]
    },
    {
     "name": "stdout",
     "output_type": "stream",
     "text": [
      "111\n",
      "Running mean: [0.27081706 0.310853   0.27078757]\n",
      "Running std dev: [0.1696181  0.17563409 0.17259686]\n"
     ]
    },
    {
     "name": "stderr",
     "output_type": "stream",
     "text": [
      " 72%|███████▏  | 112/155 [03:01<01:12,  1.69s/it]"
     ]
    },
    {
     "name": "stdout",
     "output_type": "stream",
     "text": [
      "112\n",
      "Running mean: [0.27138611 0.31128695 0.27116061]\n",
      "Running std dev: [0.16998954 0.17594834 0.17293751]\n"
     ]
    },
    {
     "name": "stderr",
     "output_type": "stream",
     "text": [
      " 73%|███████▎  | 113/155 [03:02<01:12,  1.72s/it]"
     ]
    },
    {
     "name": "stdout",
     "output_type": "stream",
     "text": [
      "113\n",
      "Running mean: [0.27184756 0.31162829 0.27146226]\n",
      "Running std dev: [0.17026747 0.17616737 0.1731838 ]\n"
     ]
    },
    {
     "name": "stderr",
     "output_type": "stream",
     "text": [
      " 74%|███████▎  | 114/155 [03:04<01:08,  1.68s/it]"
     ]
    },
    {
     "name": "stdout",
     "output_type": "stream",
     "text": [
      "114\n",
      "Running mean: [0.27228069 0.3120183  0.27186746]\n",
      "Running std dev: [0.17062325 0.17654484 0.17363526]\n"
     ]
    },
    {
     "name": "stderr",
     "output_type": "stream",
     "text": [
      " 74%|███████▍  | 115/155 [03:06<01:07,  1.68s/it]"
     ]
    },
    {
     "name": "stdout",
     "output_type": "stream",
     "text": [
      "115\n",
      "Running mean: [0.27269266 0.31236452 0.27218048]\n",
      "Running std dev: [0.17074907 0.1766491  0.17378161]\n"
     ]
    },
    {
     "name": "stderr",
     "output_type": "stream",
     "text": [
      " 75%|███████▍  | 116/155 [03:07<01:06,  1.71s/it]"
     ]
    },
    {
     "name": "stdout",
     "output_type": "stream",
     "text": [
      "116\n",
      "Running mean: [0.27319726 0.31277025 0.27258452]\n",
      "Running std dev: [0.17098112 0.17682472 0.17397588]\n"
     ]
    },
    {
     "name": "stderr",
     "output_type": "stream",
     "text": [
      " 75%|███████▌  | 117/155 [03:10<01:09,  1.82s/it]"
     ]
    },
    {
     "name": "stdout",
     "output_type": "stream",
     "text": [
      "117\n",
      "Running mean: [0.27360658 0.31308449 0.27287591]\n",
      "Running std dev: [0.17117978 0.17699155 0.17415403]\n"
     ]
    },
    {
     "name": "stderr",
     "output_type": "stream",
     "text": [
      " 76%|███████▌  | 118/155 [03:11<01:07,  1.83s/it]"
     ]
    },
    {
     "name": "stdout",
     "output_type": "stream",
     "text": [
      "118\n",
      "Running mean: [0.27405358 0.31348415 0.27325217]\n",
      "Running std dev: [0.17160797 0.17738465 0.17458379]\n"
     ]
    },
    {
     "name": "stderr",
     "output_type": "stream",
     "text": [
      " 77%|███████▋  | 119/155 [03:13<01:05,  1.83s/it]"
     ]
    },
    {
     "name": "stdout",
     "output_type": "stream",
     "text": [
      "119\n",
      "Running mean: [0.27449652 0.31382084 0.27356597]\n",
      "Running std dev: [0.17185379 0.17756567 0.17478201]\n"
     ]
    },
    {
     "name": "stderr",
     "output_type": "stream",
     "text": [
      " 77%|███████▋  | 120/155 [03:15<01:01,  1.77s/it]"
     ]
    },
    {
     "name": "stdout",
     "output_type": "stream",
     "text": [
      "120\n",
      "Running mean: [0.27502389 0.31425352 0.27398527]\n",
      "Running std dev: [0.17224148 0.17791043 0.17517971]\n"
     ]
    },
    {
     "name": "stderr",
     "output_type": "stream",
     "text": [
      " 78%|███████▊  | 121/155 [03:17<00:59,  1.76s/it]"
     ]
    },
    {
     "name": "stdout",
     "output_type": "stream",
     "text": [
      "121\n",
      "Running mean: [0.27548626 0.31463601 0.27436769]\n",
      "Running std dev: [0.17241111 0.17806827 0.17538452]\n"
     ]
    },
    {
     "name": "stderr",
     "output_type": "stream",
     "text": [
      " 79%|███████▊  | 122/155 [03:18<00:56,  1.70s/it]"
     ]
    },
    {
     "name": "stdout",
     "output_type": "stream",
     "text": [
      "122\n",
      "Running mean: [0.2759573  0.31500383 0.27472817]\n",
      "Running std dev: [0.17256497 0.17817988 0.17549914]\n"
     ]
    },
    {
     "name": "stderr",
     "output_type": "stream",
     "text": [
      " 79%|███████▉  | 123/155 [03:20<00:53,  1.68s/it]"
     ]
    },
    {
     "name": "stdout",
     "output_type": "stream",
     "text": [
      "123\n",
      "Running mean: [0.276405   0.31531914 0.27499585]\n",
      "Running std dev: [0.17277243 0.17833644 0.17563185]\n"
     ]
    },
    {
     "name": "stderr",
     "output_type": "stream",
     "text": [
      " 80%|████████  | 124/155 [03:21<00:51,  1.66s/it]"
     ]
    },
    {
     "name": "stdout",
     "output_type": "stream",
     "text": [
      "124\n",
      "Running mean: [0.27690654 0.31567178 0.27531047]\n",
      "Running std dev: [0.17308181 0.17860701 0.17588561]\n"
     ]
    },
    {
     "name": "stderr",
     "output_type": "stream",
     "text": [
      " 81%|████████  | 125/155 [03:23<00:50,  1.70s/it]"
     ]
    },
    {
     "name": "stdout",
     "output_type": "stream",
     "text": [
      "125\n",
      "Running mean: [0.27740856 0.31607569 0.27569924]\n",
      "Running std dev: [0.17317153 0.17868024 0.17599477]\n"
     ]
    },
    {
     "name": "stderr",
     "output_type": "stream",
     "text": [
      " 81%|████████▏ | 126/155 [03:25<00:49,  1.71s/it]"
     ]
    },
    {
     "name": "stdout",
     "output_type": "stream",
     "text": [
      "126\n",
      "Running mean: [0.27786925 0.3164247  0.27600089]\n",
      "Running std dev: [0.17333264 0.17881368 0.17610851]\n"
     ]
    },
    {
     "name": "stderr",
     "output_type": "stream",
     "text": [
      " 82%|████████▏ | 127/155 [03:27<00:46,  1.68s/it]"
     ]
    },
    {
     "name": "stdout",
     "output_type": "stream",
     "text": [
      "127\n",
      "Running mean: [0.27839509 0.31677886 0.27630051]\n",
      "Running std dev: [0.17352085 0.1789683  0.17624564]\n"
     ]
    },
    {
     "name": "stderr",
     "output_type": "stream",
     "text": [
      " 83%|████████▎ | 128/155 [03:28<00:44,  1.65s/it]"
     ]
    },
    {
     "name": "stdout",
     "output_type": "stream",
     "text": [
      "128\n",
      "Running mean: [0.27883535 0.31714044 0.27669685]\n",
      "Running std dev: [0.17382037 0.17927818 0.17656909]\n"
     ]
    },
    {
     "name": "stderr",
     "output_type": "stream",
     "text": [
      " 83%|████████▎ | 129/155 [03:30<00:42,  1.64s/it]"
     ]
    },
    {
     "name": "stdout",
     "output_type": "stream",
     "text": [
      "129\n",
      "Running mean: [0.27925308 0.31743416 0.27691105]\n",
      "Running std dev: [0.17398437 0.17941095 0.17669865]\n"
     ]
    },
    {
     "name": "stderr",
     "output_type": "stream",
     "text": [
      " 84%|████████▍ | 130/155 [03:31<00:40,  1.60s/it]"
     ]
    },
    {
     "name": "stdout",
     "output_type": "stream",
     "text": [
      "130\n",
      "Running mean: [0.27958658 0.31766533 0.27713212]\n",
      "Running std dev: [0.17393681 0.17933227 0.17661261]\n"
     ]
    },
    {
     "name": "stderr",
     "output_type": "stream",
     "text": [
      " 85%|████████▍ | 131/155 [03:33<00:38,  1.60s/it]"
     ]
    },
    {
     "name": "stdout",
     "output_type": "stream",
     "text": [
      "131\n",
      "Running mean: [0.27999418 0.31796798 0.27739356]\n",
      "Running std dev: [0.17402775 0.17940126 0.17669462]\n"
     ]
    },
    {
     "name": "stderr",
     "output_type": "stream",
     "text": [
      " 85%|████████▌ | 132/155 [03:34<00:37,  1.61s/it]"
     ]
    },
    {
     "name": "stdout",
     "output_type": "stream",
     "text": [
      "132\n",
      "Running mean: [0.28030119 0.31824127 0.27763338]\n",
      "Running std dev: [0.17404927 0.17941617 0.17675867]\n"
     ]
    },
    {
     "name": "stderr",
     "output_type": "stream",
     "text": [
      " 86%|████████▌ | 133/155 [03:36<00:35,  1.61s/it]"
     ]
    },
    {
     "name": "stdout",
     "output_type": "stream",
     "text": [
      "133\n",
      "Running mean: [0.28065594 0.31850289 0.27787304]\n",
      "Running std dev: [0.17410528 0.17943996 0.17680474]\n"
     ]
    },
    {
     "name": "stderr",
     "output_type": "stream",
     "text": [
      " 86%|████████▋ | 134/155 [03:38<00:33,  1.59s/it]"
     ]
    },
    {
     "name": "stdout",
     "output_type": "stream",
     "text": [
      "134\n",
      "Running mean: [0.28104525 0.3187865  0.27809263]\n",
      "Running std dev: [0.17422801 0.17953584 0.1768912 ]\n"
     ]
    },
    {
     "name": "stderr",
     "output_type": "stream",
     "text": [
      " 87%|████████▋ | 135/155 [03:39<00:32,  1.60s/it]"
     ]
    },
    {
     "name": "stdout",
     "output_type": "stream",
     "text": [
      "135\n",
      "Running mean: [0.28142104 0.31905967 0.27834995]\n",
      "Running std dev: [0.17426016 0.17952708 0.17686592]\n"
     ]
    },
    {
     "name": "stderr",
     "output_type": "stream",
     "text": [
      " 88%|████████▊ | 136/155 [03:41<00:30,  1.61s/it]"
     ]
    },
    {
     "name": "stdout",
     "output_type": "stream",
     "text": [
      "136\n",
      "Running mean: [0.28182503 0.31937154 0.27861067]\n",
      "Running std dev: [0.17436781 0.17960276 0.17696037]\n"
     ]
    },
    {
     "name": "stderr",
     "output_type": "stream",
     "text": [
      " 88%|████████▊ | 137/155 [03:43<00:30,  1.68s/it]"
     ]
    },
    {
     "name": "stdout",
     "output_type": "stream",
     "text": [
      "137\n",
      "Running mean: [0.28210585 0.31960547 0.27881381]\n",
      "Running std dev: [0.174345   0.17956441 0.17695148]\n"
     ]
    },
    {
     "name": "stderr",
     "output_type": "stream",
     "text": [
      " 89%|████████▉ | 138/155 [03:45<00:29,  1.74s/it]"
     ]
    },
    {
     "name": "stdout",
     "output_type": "stream",
     "text": [
      "138\n",
      "Running mean: [0.2824027  0.31983607 0.27901474]\n",
      "Running std dev: [0.17433397 0.17951964 0.17692556]\n"
     ]
    },
    {
     "name": "stderr",
     "output_type": "stream",
     "text": [
      " 90%|████████▉ | 139/155 [03:46<00:27,  1.71s/it]"
     ]
    },
    {
     "name": "stdout",
     "output_type": "stream",
     "text": [
      "139\n",
      "Running mean: [0.28276811 0.32011053 0.27923047]\n",
      "Running std dev: [0.17432041 0.1794929  0.17692587]\n"
     ]
    },
    {
     "name": "stderr",
     "output_type": "stream",
     "text": [
      " 90%|█████████ | 140/155 [03:48<00:25,  1.70s/it]"
     ]
    },
    {
     "name": "stdout",
     "output_type": "stream",
     "text": [
      "140\n",
      "Running mean: [0.28312067 0.32033059 0.27940115]\n",
      "Running std dev: [0.17423136 0.17938513 0.17680159]\n"
     ]
    },
    {
     "name": "stderr",
     "output_type": "stream",
     "text": [
      " 91%|█████████ | 141/155 [03:50<00:24,  1.74s/it]"
     ]
    },
    {
     "name": "stdout",
     "output_type": "stream",
     "text": [
      "141\n",
      "Running mean: [0.28349724 0.32061448 0.27965221]\n",
      "Running std dev: [0.17419397 0.17932184 0.17675015]\n"
     ]
    },
    {
     "name": "stderr",
     "output_type": "stream",
     "text": [
      " 92%|█████████▏| 142/155 [03:51<00:22,  1.72s/it]"
     ]
    },
    {
     "name": "stdout",
     "output_type": "stream",
     "text": [
      "142\n",
      "Running mean: [0.28386402 0.32090841 0.27990168]\n",
      "Running std dev: [0.17416647 0.17928639 0.17674866]\n"
     ]
    },
    {
     "name": "stderr",
     "output_type": "stream",
     "text": [
      " 92%|█████████▏| 143/155 [03:53<00:20,  1.70s/it]"
     ]
    },
    {
     "name": "stdout",
     "output_type": "stream",
     "text": [
      "143\n",
      "Running mean: [0.28410374 0.32115202 0.28016508]\n",
      "Running std dev: [0.17435372 0.17947272 0.17695045]\n"
     ]
    },
    {
     "name": "stderr",
     "output_type": "stream",
     "text": [
      " 93%|█████████▎| 144/155 [03:55<00:18,  1.71s/it]"
     ]
    },
    {
     "name": "stdout",
     "output_type": "stream",
     "text": [
      "144\n",
      "Running mean: [0.28423001 0.32129785 0.28033676]\n",
      "Running std dev: [0.17454628 0.17966039 0.17710227]\n"
     ]
    },
    {
     "name": "stderr",
     "output_type": "stream",
     "text": [
      " 94%|█████████▎| 145/155 [03:57<00:17,  1.71s/it]"
     ]
    },
    {
     "name": "stdout",
     "output_type": "stream",
     "text": [
      "145\n",
      "Running mean: [0.28432709 0.32146559 0.28054421]\n",
      "Running std dev: [0.17478556 0.1799204  0.17735957]\n"
     ]
    },
    {
     "name": "stderr",
     "output_type": "stream",
     "text": [
      " 94%|█████████▍| 146/155 [03:58<00:15,  1.75s/it]"
     ]
    },
    {
     "name": "stdout",
     "output_type": "stream",
     "text": [
      "146\n",
      "Running mean: [0.28443215 0.32160607 0.28071799]\n",
      "Running std dev: [0.17498711 0.18012962 0.17754326]\n"
     ]
    },
    {
     "name": "stderr",
     "output_type": "stream",
     "text": [
      " 95%|█████████▍| 147/155 [04:00<00:13,  1.71s/it]"
     ]
    },
    {
     "name": "stdout",
     "output_type": "stream",
     "text": [
      "147\n",
      "Running mean: [0.28433673 0.32154091 0.28066672]\n",
      "Running std dev: [0.17513101 0.18025252 0.17764896]\n"
     ]
    },
    {
     "name": "stderr",
     "output_type": "stream",
     "text": [
      " 95%|█████████▌| 148/155 [04:02<00:11,  1.68s/it]"
     ]
    },
    {
     "name": "stdout",
     "output_type": "stream",
     "text": [
      "148\n",
      "Running mean: [0.28448352 0.32169474 0.28078828]\n",
      "Running std dev: [0.17530335 0.18042376 0.17777967]\n"
     ]
    },
    {
     "name": "stderr",
     "output_type": "stream",
     "text": [
      " 96%|█████████▌| 149/155 [04:03<00:10,  1.68s/it]"
     ]
    },
    {
     "name": "stdout",
     "output_type": "stream",
     "text": [
      "149\n",
      "Running mean: [0.28470176 0.32190253 0.28097274]\n",
      "Running std dev: [0.17553452 0.18064954 0.17797582]\n"
     ]
    },
    {
     "name": "stderr",
     "output_type": "stream",
     "text": [
      " 97%|█████████▋| 150/155 [04:05<00:08,  1.70s/it]"
     ]
    },
    {
     "name": "stdout",
     "output_type": "stream",
     "text": [
      "150\n",
      "Running mean: [0.28457652 0.32183964 0.28095299]\n",
      "Running std dev: [0.17552419 0.18063051 0.17792765]\n"
     ]
    },
    {
     "name": "stderr",
     "output_type": "stream",
     "text": [
      " 97%|█████████▋| 151/155 [04:07<00:06,  1.70s/it]"
     ]
    },
    {
     "name": "stdout",
     "output_type": "stream",
     "text": [
      "151\n",
      "Running mean: [0.28461446 0.32188103 0.28101443]\n",
      "Running std dev: [0.17560243 0.18069821 0.17796974]\n"
     ]
    },
    {
     "name": "stderr",
     "output_type": "stream",
     "text": [
      " 98%|█████████▊| 152/155 [04:08<00:05,  1.70s/it]"
     ]
    },
    {
     "name": "stdout",
     "output_type": "stream",
     "text": [
      "152\n",
      "Running mean: [0.28466448 0.32194425 0.28110397]\n",
      "Running std dev: [0.175594   0.18066501 0.17793242]\n"
     ]
    },
    {
     "name": "stderr",
     "output_type": "stream",
     "text": [
      " 99%|█████████▊| 153/155 [04:10<00:03,  1.70s/it]"
     ]
    },
    {
     "name": "stdout",
     "output_type": "stream",
     "text": [
      "153\n",
      "Running mean: [0.28493145 0.32220478 0.28132807]\n",
      "Running std dev: [0.17576599 0.18084703 0.17809844]\n"
     ]
    },
    {
     "name": "stderr",
     "output_type": "stream",
     "text": [
      " 99%|█████████▉| 154/155 [04:12<00:01,  1.80s/it]"
     ]
    },
    {
     "name": "stdout",
     "output_type": "stream",
     "text": [
      "154\n",
      "Running mean: [0.28494095 0.32225396 0.28137361]\n",
      "Running std dev: [0.17573603 0.18080828 0.17806175]\n"
     ]
    },
    {
     "name": "stderr",
     "output_type": "stream",
     "text": [
      "100%|██████████| 155/155 [04:13<00:00,  1.64s/it]"
     ]
    },
    {
     "name": "stdout",
     "output_type": "stream",
     "text": [
      "155\n",
      "Running mean: [0.28509203 0.32244492 0.2815879 ]\n",
      "Running std dev: [0.17581021 0.18087702 0.17814998]\n"
     ]
    },
    {
     "name": "stderr",
     "output_type": "stream",
     "text": [
      "\n"
     ]
    }
   ],
   "source": [
    "from tqdm import tqdm\n",
    "\n",
    "mean = np.array([0.00000, 0.00000, 0.00000])\n",
    "std = np.array([0.00000, 0.00000, 0.00000])\n",
    "for idx, data in tqdm(enumerate(trn_dl), total = len(trn_dl)):\n",
    "    ims, ce_masks = data\n",
    "\n",
    "    mean[0] += ims[:, 0].mean().item()\n",
    "    std[0] += ims[:, 0].std().item()\n",
    "    \n",
    "    mean[1] += ims[:, 1].mean().item()\n",
    "    std[1] += ims[:, 1].std().item()\n",
    "    \n",
    "    mean[2] += ims[:, 2].mean().item()\n",
    "    std[2] += ims[:, 2].std().item()\n",
    "    \n",
    "    print(idx+1)\n",
    "    print(\"Running mean:\", mean / (idx+1))\n",
    "    print(\"Running std dev:\", std / (idx+1))"
   ]
  }
 ],
 "metadata": {
  "kernelspec": {
   "display_name": "ensf-ml",
   "language": "python",
   "name": "python3"
  },
  "language_info": {
   "codemirror_mode": {
    "name": "ipython",
    "version": 3
   },
   "file_extension": ".py",
   "mimetype": "text/x-python",
   "name": "python",
   "nbconvert_exporter": "python",
   "pygments_lexer": "ipython3",
   "version": "3.9.12"
  },
  "orig_nbformat": 4
 },
 "nbformat": 4,
 "nbformat_minor": 2
}
