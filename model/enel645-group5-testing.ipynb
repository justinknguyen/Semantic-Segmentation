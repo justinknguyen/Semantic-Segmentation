{
 "cells": [
  {
   "cell_type": "code",
   "execution_count": 2,
   "metadata": {},
   "outputs": [],
   "source": [
    "#Import required libraries\n",
    "import torch\n",
    "import torch.nn as nn\n",
    "import cv2\n",
    "from torch.utils.data import Dataset, DataLoader\n",
    "from torchvision import transforms\n",
    "from torch_snippets import stems, read\n",
    "from enel645_group5_functions import *"
   ]
  },
  {
   "cell_type": "code",
   "execution_count": 3,
   "metadata": {},
   "outputs": [
    {
     "name": "stdout",
     "output_type": "stream",
     "text": [
      "The device being used is: cpu\n"
     ]
    }
   ],
   "source": [
    "# Check if GPU is available\n",
    "device = torch.device('cuda:0' if torch.cuda.is_available() else 'cpu')\n",
    "# Assuming that we are on a CUDA machine, this should print a CUDA device:\n",
    "print(\"The device being used is:\", device)"
   ]
  },
  {
   "cell_type": "code",
   "execution_count": 4,
   "metadata": {},
   "outputs": [],
   "source": [
    "net = UNet().to(device)\n",
    "\n",
    "PATH = './best_model.pth' # Path to save the best model\n",
    "net.load_state_dict(torch.load(PATH, map_location=torch.device(device)))\n",
    "\n",
    "test_ds = SegmentationDataset('test')\n",
    "\n",
    "test_dl = DataLoader(test_ds, batch_size=8, collate_fn=test_ds.collate_fn)"
   ]
  },
  {
   "cell_type": "code",
   "execution_count": 5,
   "metadata": {},
   "outputs": [
    {
     "name": "stdout",
     "output_type": "stream",
     "text": [
      "Batch #0 is done.\n",
      "Batch #1 is done.\n",
      "Batch #2 is done.\n",
      "Batch #3 is done.\n",
      "Batch #4 is done.\n",
      "Batch #5 is done.\n",
      "Batch #6 is done.\n",
      "Batch #7 is done.\n",
      "Batch #8 is done.\n",
      "Batch #9 is done.\n",
      "Batch #10 is done.\n",
      "Batch #11 is done.\n",
      "Batch #12 is done.\n",
      "Batch #13 is done.\n",
      "Batch #14 is done.\n",
      "Batch #15 is done.\n",
      "Batch #16 is done.\n",
      "Batch #17 is done.\n",
      "Batch #18 is done.\n",
      "Batch #19 is done.\n",
      "Batch #20 is done.\n",
      "Batch #21 is done.\n",
      "Batch #22 is done.\n",
      "Batch #23 is done.\n",
      "Batch #24 is done.\n",
      "Batch #25 is done.\n",
      "Batch #26 is done.\n",
      "Batch #27 is done.\n",
      "Batch #28 is done.\n",
      "Batch #29 is done.\n",
      "Batch #30 is done.\n",
      "Batch #31 is done.\n",
      "Batch #32 is done.\n",
      "Batch #33 is done.\n",
      "Batch #34 is done.\n",
      "Batch #35 is done.\n",
      "Batch #36 is done.\n",
      "Batch #37 is done.\n",
      "Batch #38 is done.\n",
      "Batch #39 is done.\n",
      "Batch #40 is done.\n",
      "Batch #41 is done.\n",
      "Batch #42 is done.\n",
      "Batch #43 is done.\n",
      "Batch #44 is done.\n",
      "Batch #45 is done.\n",
      "Batch #46 is done.\n",
      "Batch #47 is done.\n",
      "Batch #48 is done.\n",
      "Batch #49 is done.\n",
      "Batch #50 is done.\n",
      "Batch #51 is done.\n",
      "Batch #52 is done.\n",
      "Batch #53 is done.\n",
      "Batch #54 is done.\n",
      "Batch #55 is done.\n",
      "Batch #56 is done.\n",
      "Batch #57 is done.\n",
      "Batch #58 is done.\n",
      "Batch #59 is done.\n",
      "Batch #60 is done.\n",
      "Batch #61 is done.\n",
      "Batch #62 is done.\n"
     ]
    },
    {
     "data": {
      "text/plain": [
       "{'mean_iou': 0.3411265415125695,\n",
       " 'mean_accuracy': 0.40490372018089593,\n",
       " 'overall_accuracy': 0.879411770567602,\n",
       " 'per_category_iou': array([0.00000000e+00, 9.74901026e-01, 9.34504713e-01, 9.87520083e-01,\n",
       "        1.50133252e-01, 3.89583280e-03, 2.08634659e-02, 9.26136300e-01,\n",
       "        6.54903621e-01, 2.12992381e-01, 1.29293289e-02, 8.13104413e-01,\n",
       "        1.93440362e-01, 2.45131412e-01, 0.00000000e+00, 1.15129342e-01,\n",
       "        0.00000000e+00, 3.39389428e-01, 0.00000000e+00, 2.42395423e-01,\n",
       "        4.42499484e-01, 8.67914781e-01, 4.47388561e-01, 8.55187989e-01,\n",
       "        5.03872739e-01, 1.86550678e-04, 8.51234917e-01, 1.84122761e-01,\n",
       "        2.11828553e-03, 0.00000000e+00, 0.00000000e+00, 1.14416804e-01,\n",
       "        8.55834302e-03, 4.93430814e-01]),\n",
       " 'per_category_accuracy': array([0.00000000e+00, 9.92917196e-01, 9.78599871e-01, 9.87805453e-01,\n",
       "        2.43078698e-01, 3.94914691e-03, 2.21491508e-02, 9.77295872e-01,\n",
       "        8.75190823e-01, 3.48523338e-01, 1.32108274e-02, 9.22613712e-01,\n",
       "        2.27789376e-01, 3.33761651e-01, 0.00000000e+00, 1.84382454e-01,\n",
       "        0.00000000e+00, 4.42814827e-01, 0.00000000e+00, 2.76679741e-01,\n",
       "        5.39966978e-01, 9.45147869e-01, 5.98428786e-01, 9.33901021e-01,\n",
       "        7.42304669e-01, 1.86583653e-04, 9.53036777e-01, 4.06021809e-01,\n",
       "        2.12505013e-03, 0.00000000e+00, 0.00000000e+00, 1.40076455e-01,\n",
       "        8.72473868e-03, 6.66043614e-01])}"
      ]
     },
     "execution_count": 5,
     "metadata": {},
     "output_type": "execute_result"
    }
   ],
   "source": [
    "import evaluate\n",
    "mean_iou = evaluate.load(\"mean_iou\")\n",
    "\n",
    "# since we're not training, we don't need to calculate the gradients for our outputs\n",
    "with torch.no_grad():\n",
    "    for i, data in enumerate(test_dl):\n",
    "        images, ground_truth_masks = data\n",
    "        _masks = net(images)\n",
    "        _masks = torch.argmax(_masks, dim=1)\n",
    "        mean_iou.add_batch(predictions=_masks, references=ground_truth_masks)\n",
    "        \n",
    "        print(f\"Batch #{i} is done.\")\n",
    "        \n",
    "mean_iou.compute(num_labels=34, ignore_index=255)"
   ]
  },
  {
   "cell_type": "code",
   "execution_count": null,
   "metadata": {},
   "outputs": [],
   "source": []
  }
 ],
 "metadata": {
  "kernelspec": {
   "display_name": "ensf-ml",
   "language": "python",
   "name": "python3"
  },
  "language_info": {
   "codemirror_mode": {
    "name": "ipython",
    "version": 3
   },
   "file_extension": ".py",
   "mimetype": "text/x-python",
   "name": "python",
   "nbconvert_exporter": "python",
   "pygments_lexer": "ipython3",
   "version": "3.9.12"
  },
  "orig_nbformat": 4
 },
 "nbformat": 4,
 "nbformat_minor": 2
}
