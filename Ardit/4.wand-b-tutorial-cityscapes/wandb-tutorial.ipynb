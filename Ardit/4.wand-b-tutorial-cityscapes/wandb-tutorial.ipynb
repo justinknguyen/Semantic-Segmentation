{
 "cells": [
  {
   "cell_type": "code",
   "execution_count": 2,
   "metadata": {},
   "outputs": [],
   "source": [
    "import torch\n",
    "import torch.nn as nn\n",
    "import cv2\n",
    "from torch.utils.data import Dataset, DataLoader\n",
    "from torchvision import transforms\n",
    "from torch_snippets import stems, read, plt\n",
    "from torch.optim.lr_scheduler import ExponentialLR"
   ]
  },
  {
   "cell_type": "code",
   "execution_count": 3,
   "metadata": {},
   "outputs": [
    {
     "name": "stdout",
     "output_type": "stream",
     "text": [
      "The device being used is: cpu\n"
     ]
    }
   ],
   "source": [
    "# Check if GPU is available\n",
    "device = torch.device('cuda:0' if torch.cuda.is_available() else 'cpu')\n",
    "# Assuming that we are on a CUDA machine, this should print a CUDA device:\n",
    "print(\"The device being used is:\", device)"
   ]
  },
  {
   "cell_type": "code",
   "execution_count": 4,
   "metadata": {},
   "outputs": [],
   "source": [
    "def get_transforms():\n",
    "  return transforms.Compose([\n",
    "                             transforms.ToTensor(),\n",
    "                             transforms.Normalize(\n",
    "                                 [0.485, 0.456, 0.406], \n",
    "                                 [0.229, 0.224, 0.225]\n",
    "                                 )\n",
    "                             ])"
   ]
  },
  {
   "cell_type": "code",
   "execution_count": 5,
   "metadata": {},
   "outputs": [],
   "source": [
    "class SegmentationDataset(Dataset):\n",
    "    def __init__(self, split):\n",
    "        self.items = stems(f'dataset1/images_prepped_{split}')\n",
    "        self.split = split\n",
    "\n",
    "\n",
    "    def __len__(self):\n",
    "        return len(self.items)\n",
    "\n",
    "\n",
    "    def __getitem__(self, ix):\n",
    "        image = read(f'dataset1/images_prepped_{self.split}/{self.items[ix]}.png', 1)\n",
    "        image = cv2.resize(image, (224,224))\n",
    "\n",
    "        mask = read(f'dataset1/annotations_prepped_{self.split}/{self.items[ix]}.png')\n",
    "        mask = cv2.resize(mask, (224,224))\n",
    "\n",
    "        return image, mask\n",
    "    \n",
    "    def collate_fn(self, batch):\n",
    "        ims, masks = list(zip(*batch))\n",
    "\n",
    "        ims = torch.cat([get_transforms()(im.copy()/255.)[None] for im in ims]).float().to(device)\n",
    "\n",
    "\n",
    "        ce_masks = torch.cat([torch.Tensor(mask[None]) for mask in masks]).long().to(device)\n",
    "\n",
    "\n",
    "        return ims, ce_masks"
   ]
  },
  {
   "cell_type": "code",
   "execution_count": 6,
   "metadata": {},
   "outputs": [],
   "source": [
    "trn_ds = SegmentationDataset('train')\n",
    "val_ds = SegmentationDataset('test')\n",
    "\n",
    "trn_dl = DataLoader(trn_ds, batch_size=16, shuffle=True, collate_fn=trn_ds.collate_fn)\n",
    "val_dl = DataLoader(val_ds, batch_size=16, shuffle=True, collate_fn=val_ds.collate_fn)"
   ]
  },
  {
   "cell_type": "code",
   "execution_count": 7,
   "metadata": {},
   "outputs": [],
   "source": [
    "from torchvision.models import vgg16_bn\n",
    "\n",
    "def conv(in_channels, out_channels):\n",
    "    return nn.Sequential(\n",
    "        nn.Conv2d(in_channels, out_channels, kernel_size=3, stride=1, padding=1),\n",
    "        nn.BatchNorm2d(out_channels),\n",
    "        nn.ReLU(inplace=True)\n",
    "    )\n",
    "    \n",
    "def up_conv(in_channels, out_channels):\n",
    "    return nn.Sequential(\n",
    "        nn.ConvTranspose2d(in_channels, out_channels, kernel_size=2, stride=2),\n",
    "        nn.ReLU(inplace=True)\n",
    "    )\n",
    "\n",
    "class UNet(nn.Module):\n",
    "    def __init__(self, pretrained=True, out_channels=35):\n",
    "        super().__init__()\n",
    "\n",
    "\n",
    "        self.encoder = vgg16_bn(pretrained=pretrained).features\n",
    "        self.block1 = nn.Sequential(*self.encoder[:6])\n",
    "        self.block2 = nn.Sequential(*self.encoder[6:13])\n",
    "        self.block3 = nn.Sequential(*self.encoder[13:20])\n",
    "        self.block4 = nn.Sequential(*self.encoder[20:27])\n",
    "        self.block5 = nn.Sequential(*self.encoder[27:34])\n",
    "\n",
    "\n",
    "        self.bottleneck = nn.Sequential(*self.encoder[34:])\n",
    "        self.conv_bottleneck = conv(512, 1024)\n",
    "\n",
    "\n",
    "        self.up_conv6 = up_conv(1024, 512)\n",
    "        self.conv6 = conv(512 + 512, 512)\n",
    "        self.up_conv7 = up_conv(512, 256)\n",
    "        self.conv7 = conv(256 + 512, 256)\n",
    "        self.up_conv8 = up_conv(256, 128)\n",
    "        self.conv8 = conv(128 + 256, 128)\n",
    "        self.up_conv9 = up_conv(128, 64)\n",
    "        self.conv9 = conv(64 + 128, 64)\n",
    "        self.up_conv10 = up_conv(64, 32)\n",
    "        self.conv10 = conv(32 + 64, 32)\n",
    "        self.conv11 = nn.Conv2d(32, out_channels, kernel_size=1)\n",
    "        \n",
    "    def forward(self, x):\n",
    "        block1 = self.block1(x)\n",
    "        block2 = self.block2(block1)\n",
    "        block3 = self.block3(block2)\n",
    "        block4 = self.block4(block3)\n",
    "        block5 = self.block5(block4)\n",
    "\n",
    "\n",
    "        bottleneck = self.bottleneck(block5)\n",
    "        x = self.conv_bottleneck(bottleneck)\n",
    "\n",
    "\n",
    "        x = self.up_conv6(x)\n",
    "        x = torch.cat([x, block5], dim=1)\n",
    "        x = self.conv6(x)\n",
    "\n",
    "\n",
    "        x = self.up_conv7(x)\n",
    "        x = torch.cat([x, block4], dim=1)\n",
    "        x = self.conv7(x)\n",
    "\n",
    "\n",
    "        x = self.up_conv8(x)\n",
    "        x = torch.cat([x, block3], dim=1)\n",
    "        x = self.conv8(x)\n",
    "\n",
    "\n",
    "        x = self.up_conv9(x)\n",
    "        x = torch.cat([x, block2], dim=1)\n",
    "        x = self.conv9(x)\n",
    "\n",
    "\n",
    "        x = self.up_conv10(x)\n",
    "        x = torch.cat([x, block1], dim=1)\n",
    "        x = self.conv10(x)\n",
    "\n",
    "\n",
    "        x = self.conv11(x)\n",
    "\n",
    "\n",
    "        return x\n"
   ]
  },
  {
   "cell_type": "code",
   "execution_count": 8,
   "metadata": {},
   "outputs": [
    {
     "name": "stderr",
     "output_type": "stream",
     "text": [
      "c:\\Users\\Ardit\\anaconda3\\envs\\ensf-ml\\lib\\site-packages\\torchvision\\models\\_utils.py:208: UserWarning: The parameter 'pretrained' is deprecated since 0.13 and will be removed in 0.15, please use 'weights' instead.\n",
      "  warnings.warn(\n",
      "c:\\Users\\Ardit\\anaconda3\\envs\\ensf-ml\\lib\\site-packages\\torchvision\\models\\_utils.py:223: UserWarning: Arguments other than a weight enum or `None` for 'weights' are deprecated since 0.13 and will be removed in 0.15. The current behavior is equivalent to passing `weights=VGG16_BN_Weights.IMAGENET1K_V1`. You can also use `weights=VGG16_BN_Weights.DEFAULT` to get the most up-to-date weights.\n",
      "  warnings.warn(msg)\n"
     ]
    }
   ],
   "source": [
    "net = UNet().to(device)\n",
    "\n",
    "criterion = nn.CrossEntropyLoss() # Loss function\n",
    "optimizer = torch.optim.AdamW(net.parameters(), lr = 0.001)\n",
    "scheduler = ExponentialLR(optimizer, gamma=0.9)"
   ]
  },
  {
   "cell_type": "code",
   "execution_count": 18,
   "metadata": {},
   "outputs": [
    {
     "ename": "KeyboardInterrupt",
     "evalue": "",
     "output_type": "error",
     "traceback": [
      "\u001b[1;31m---------------------------------------------------------------------------\u001b[0m",
      "\u001b[1;31mKeyboardInterrupt\u001b[0m                         Traceback (most recent call last)",
      "Cell \u001b[1;32mIn[18], line 17\u001b[0m\n\u001b[0;32m     14\u001b[0m _masks \u001b[39m=\u001b[39m net(ims)\n\u001b[0;32m     16\u001b[0m loss \u001b[39m=\u001b[39m criterion(_masks, ce_masks)\n\u001b[1;32m---> 17\u001b[0m loss\u001b[39m.\u001b[39;49mbackward()\n\u001b[0;32m     18\u001b[0m optimizer\u001b[39m.\u001b[39mstep()\n\u001b[0;32m     20\u001b[0m train_loss \u001b[39m+\u001b[39m\u001b[39m=\u001b[39m loss\u001b[39m.\u001b[39mitem()\n",
      "File \u001b[1;32mc:\\Users\\Ardit\\anaconda3\\envs\\ensf-ml\\lib\\site-packages\\torch\\_tensor.py:396\u001b[0m, in \u001b[0;36mTensor.backward\u001b[1;34m(self, gradient, retain_graph, create_graph, inputs)\u001b[0m\n\u001b[0;32m    387\u001b[0m \u001b[39mif\u001b[39;00m has_torch_function_unary(\u001b[39mself\u001b[39m):\n\u001b[0;32m    388\u001b[0m     \u001b[39mreturn\u001b[39;00m handle_torch_function(\n\u001b[0;32m    389\u001b[0m         Tensor\u001b[39m.\u001b[39mbackward,\n\u001b[0;32m    390\u001b[0m         (\u001b[39mself\u001b[39m,),\n\u001b[1;32m   (...)\u001b[0m\n\u001b[0;32m    394\u001b[0m         create_graph\u001b[39m=\u001b[39mcreate_graph,\n\u001b[0;32m    395\u001b[0m         inputs\u001b[39m=\u001b[39minputs)\n\u001b[1;32m--> 396\u001b[0m torch\u001b[39m.\u001b[39;49mautograd\u001b[39m.\u001b[39;49mbackward(\u001b[39mself\u001b[39;49m, gradient, retain_graph, create_graph, inputs\u001b[39m=\u001b[39;49minputs)\n",
      "File \u001b[1;32mc:\\Users\\Ardit\\anaconda3\\envs\\ensf-ml\\lib\\site-packages\\torch\\autograd\\__init__.py:173\u001b[0m, in \u001b[0;36mbackward\u001b[1;34m(tensors, grad_tensors, retain_graph, create_graph, grad_variables, inputs)\u001b[0m\n\u001b[0;32m    168\u001b[0m     retain_graph \u001b[39m=\u001b[39m create_graph\n\u001b[0;32m    170\u001b[0m \u001b[39m# The reason we repeat same the comment below is that\u001b[39;00m\n\u001b[0;32m    171\u001b[0m \u001b[39m# some Python versions print out the first line of a multi-line function\u001b[39;00m\n\u001b[0;32m    172\u001b[0m \u001b[39m# calls in the traceback and some print out the last line\u001b[39;00m\n\u001b[1;32m--> 173\u001b[0m Variable\u001b[39m.\u001b[39;49m_execution_engine\u001b[39m.\u001b[39;49mrun_backward(  \u001b[39m# Calls into the C++ engine to run the backward pass\u001b[39;49;00m\n\u001b[0;32m    174\u001b[0m     tensors, grad_tensors_, retain_graph, create_graph, inputs,\n\u001b[0;32m    175\u001b[0m     allow_unreachable\u001b[39m=\u001b[39;49m\u001b[39mTrue\u001b[39;49;00m, accumulate_grad\u001b[39m=\u001b[39;49m\u001b[39mTrue\u001b[39;49;00m)\n",
      "\u001b[1;31mKeyboardInterrupt\u001b[0m: "
     ]
    }
   ],
   "source": [
    "nepochs = 20\n",
    "PATH = './best_model.pth' # Path to save the best model\n",
    "\n",
    "best_loss = 1e+20\n",
    "for epoch in range(nepochs):  # loop over the dataset multiple times\n",
    "    # Training Loop\n",
    "    train_loss = 0.0\n",
    "    net.train()\n",
    "    for i, data in enumerate(trn_dl):\n",
    "        ims, ce_masks = data\n",
    "        optimizer.zero_grad()\n",
    "        \n",
    "        # forward + backward + optimize\n",
    "        _masks = net(ims)\n",
    "        \n",
    "        loss = criterion(_masks, ce_masks)\n",
    "        loss.backward()\n",
    "        optimizer.step()\n",
    "\n",
    "        train_loss += loss.item()\n",
    "        \n",
    "    print(f'{epoch + 1},  train loss: {train_loss / i:.3f},', end = ' ')\n",
    "    scheduler.step()\n",
    "    \n",
    "    val_loss = 0\n",
    "    net.eval()\n",
    "    # since we're not training, we don't need to calculate the gradients for our outputs\n",
    "    with torch.no_grad():\n",
    "        for i, data in enumerate(val_dl):\n",
    "            ims, masks = data\n",
    "            _masks = net(ims)\n",
    "            loss = criterion(_masks, masks)\n",
    "            \n",
    "            val_loss += loss.item()\n",
    "            \n",
    "        print(f'val loss: {val_loss / i:.3f}')\n",
    "        \n",
    "        # Save best model\n",
    "        if val_loss < best_loss:\n",
    "            print(\"Saving model\")\n",
    "            torch.save(net.state_dict(), PATH)\n",
    "            best_loss = val_loss\n",
    "        \n",
    "print('Finished Training')"
   ]
  },
  {
   "cell_type": "code",
   "execution_count": 10,
   "metadata": {},
   "outputs": [
    {
     "data": {
      "text/plain": [
       "<All keys matched successfully>"
      ]
     },
     "execution_count": 10,
     "metadata": {},
     "output_type": "execute_result"
    }
   ],
   "source": [
    "net.load_state_dict(torch.load('./best_model.pth', map_location=torch.device('cpu')))"
   ]
  },
  {
   "cell_type": "code",
   "execution_count": 11,
   "metadata": {},
   "outputs": [
    {
     "name": "stderr",
     "output_type": "stream",
     "text": [
      "100%|██████████| 6/6 [01:24<00:00, 14.06s/it]\n"
     ]
    }
   ],
   "source": [
    "from tqdm import tqdm\n",
    "\n",
    "for bx, data in tqdm(enumerate(val_dl), total = len(val_dl)):\n",
    "    im, mask = data\n",
    "    _mask = net(im)\n",
    "    _, _mask = torch.max(_mask, dim=1)\n",
    "\n",
    "\n",
    "    plt.figure(figsize=(10,10))\n",
    "    plt.axis(\"off\")\n",
    "    plt.imshow(im[0].permute(1,2,0).detach().cpu()[:,:,0])\n",
    "    plt.savefig(\"original_image.jpg\")\n",
    "    plt.close()\n",
    "\n",
    "\n",
    "    plt.figure(figsize=(10,10))\n",
    "    plt.axis(\"off\")\n",
    "    plt.imshow(mask.permute(1,2,0).detach().cpu()[:,:,0])\n",
    "    plt.savefig(\"original_mask.jpg\")\n",
    "    plt.close()\n",
    "\n",
    "\n",
    "    plt.figure(figsize=(10,10))\n",
    "    plt.axis(\"off\")\n",
    "    plt.imshow(_mask.permute(1,2,0).detach().cpu()[:,:,0])\n",
    "    plt.savefig(\"predicted_mask.jpg\")\n",
    "    plt.close()"
   ]
  },
  {
   "cell_type": "code",
   "execution_count": null,
   "metadata": {},
   "outputs": [],
   "source": [
    "\n"
   ]
  },
  {
   "cell_type": "code",
   "execution_count": null,
   "metadata": {},
   "outputs": [],
   "source": []
  },
  {
   "cell_type": "code",
   "execution_count": null,
   "metadata": {},
   "outputs": [],
   "source": []
  },
  {
   "cell_type": "code",
   "execution_count": null,
   "metadata": {},
   "outputs": [],
   "source": []
  },
  {
   "cell_type": "code",
   "execution_count": null,
   "metadata": {},
   "outputs": [],
   "source": [
    "\n"
   ]
  },
  {
   "cell_type": "code",
   "execution_count": null,
   "metadata": {},
   "outputs": [],
   "source": []
  },
  {
   "cell_type": "code",
   "execution_count": null,
   "metadata": {},
   "outputs": [],
   "source": []
  },
  {
   "cell_type": "code",
   "execution_count": null,
   "metadata": {},
   "outputs": [],
   "source": []
  }
 ],
 "metadata": {
  "kernelspec": {
   "display_name": "ensf-ml",
   "language": "python",
   "name": "python3"
  },
  "language_info": {
   "codemirror_mode": {
    "name": "ipython",
    "version": 3
   },
   "file_extension": ".py",
   "mimetype": "text/x-python",
   "name": "python",
   "nbconvert_exporter": "python",
   "pygments_lexer": "ipython3",
   "version": "3.9.12"
  },
  "orig_nbformat": 4
 },
 "nbformat": 4,
 "nbformat_minor": 2
}
